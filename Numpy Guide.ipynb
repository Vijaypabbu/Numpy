{
 "cells": [
  {
   "cell_type": "markdown",
   "id": "35d844e3",
   "metadata": {},
   "source": [
    "# Installation of numpy"
   ]
  },
  {
   "cell_type": "code",
   "execution_count": 56,
   "id": "861ecea6",
   "metadata": {},
   "outputs": [
    {
     "name": "stdout",
     "output_type": "stream",
     "text": [
      "Requirement already satisfied: numpy in c:\\users\\admin\\anaconda3\\lib\\site-packages (1.21.5)Note: you may need to restart the kernel to use updated packages.\n",
      "\n"
     ]
    }
   ],
   "source": [
    "pip install numpy"
   ]
  },
  {
   "cell_type": "markdown",
   "id": "fcd2d0ce",
   "metadata": {},
   "source": [
    "# Importing Numpy"
   ]
  },
  {
   "cell_type": "code",
   "execution_count": 57,
   "id": "c858edfd",
   "metadata": {},
   "outputs": [],
   "source": [
    "import numpy as np"
   ]
  },
  {
   "cell_type": "markdown",
   "id": "548bbb57",
   "metadata": {},
   "source": [
    "# Creating Numpy Arrays"
   ]
  },
  {
   "cell_type": "code",
   "execution_count": 58,
   "id": "5d6110eb",
   "metadata": {},
   "outputs": [
    {
     "name": "stdout",
     "output_type": "stream",
     "text": [
      "[1 2 3 4 5]\n"
     ]
    }
   ],
   "source": [
    "arr = np.array([1, 2, 3, 4, 5])\n",
    "print(arr)"
   ]
  },
  {
   "cell_type": "code",
   "execution_count": 59,
   "id": "b79d87bb",
   "metadata": {},
   "outputs": [
    {
     "name": "stdout",
     "output_type": "stream",
     "text": [
      "[0 2 4 6 8]\n"
     ]
    }
   ],
   "source": [
    "arr = np.arange(0, 10, 2)\n",
    "print(arr)"
   ]
  },
  {
   "cell_type": "code",
   "execution_count": 60,
   "id": "e6c7d0cf",
   "metadata": {},
   "outputs": [
    {
     "name": "stdout",
     "output_type": "stream",
     "text": [
      "[[0. 0. 0.]\n",
      " [0. 0. 0.]\n",
      " [0. 0. 0.]]\n"
     ]
    }
   ],
   "source": [
    "zeros = np.zeros((3,3))\n",
    "print(zeros)"
   ]
  },
  {
   "cell_type": "code",
   "execution_count": 61,
   "id": "869da65d",
   "metadata": {},
   "outputs": [
    {
     "name": "stdout",
     "output_type": "stream",
     "text": [
      "[[1. 1.]\n",
      " [1. 1.]]\n"
     ]
    }
   ],
   "source": [
    "ones = np.ones((2,2))\n",
    "print(ones)"
   ]
  },
  {
   "cell_type": "markdown",
   "id": "4cb1efb0",
   "metadata": {},
   "source": [
    "# Array Attributes"
   ]
  },
  {
   "cell_type": "code",
   "execution_count": 62,
   "id": "7fe1183e",
   "metadata": {},
   "outputs": [
    {
     "data": {
      "text/plain": [
       "(5,)"
      ]
     },
     "execution_count": 62,
     "metadata": {},
     "output_type": "execute_result"
    }
   ],
   "source": [
    "np.shape(arr)"
   ]
  },
  {
   "cell_type": "code",
   "execution_count": 63,
   "id": "d8a64764",
   "metadata": {},
   "outputs": [
    {
     "data": {
      "text/plain": [
       "2"
      ]
     },
     "execution_count": 63,
     "metadata": {},
     "output_type": "execute_result"
    }
   ],
   "source": [
    "np.ndim(ones)"
   ]
  },
  {
   "cell_type": "code",
   "execution_count": 64,
   "id": "9b575f6d",
   "metadata": {},
   "outputs": [
    {
     "data": {
      "text/plain": [
       "9"
      ]
     },
     "execution_count": 64,
     "metadata": {},
     "output_type": "execute_result"
    }
   ],
   "source": [
    "np.size(zeros)"
   ]
  },
  {
   "cell_type": "markdown",
   "id": "847cb2a2",
   "metadata": {},
   "source": [
    "# Indexing and Slicing Arrays"
   ]
  },
  {
   "cell_type": "code",
   "execution_count": 65,
   "id": "ffe9aa1c",
   "metadata": {},
   "outputs": [
    {
     "name": "stdout",
     "output_type": "stream",
     "text": [
      "1\n",
      "5\n",
      "[3 4]\n"
     ]
    }
   ],
   "source": [
    "arr = np.array([1, 2, 3, 4, 5])\n",
    "print(arr[0])\n",
    "print(arr[-1])\n",
    "print(arr[2:4])"
   ]
  },
  {
   "cell_type": "markdown",
   "id": "b55f4609",
   "metadata": {},
   "source": [
    "# Array Operations"
   ]
  },
  {
   "cell_type": "code",
   "execution_count": 66,
   "id": "90c5968f",
   "metadata": {},
   "outputs": [
    {
     "name": "stdout",
     "output_type": "stream",
     "text": [
      "[5 7 9]\n",
      "[-3 -3 -3]\n",
      "[ 4 10 18]\n",
      "[1 4 9]\n"
     ]
    }
   ],
   "source": [
    "arr1 = np.array([1, 2, 3])\n",
    "arr2 = np.array([4, 5, 6])\n",
    "print(arr1 + arr2)\n",
    "print(arr1 - arr2)\n",
    "print(arr1 * arr2)\n",
    "print(arr1 ** 2)"
   ]
  },
  {
   "cell_type": "markdown",
   "id": "cddbabb9",
   "metadata": {},
   "source": [
    "# Broadcasting\n"
   ]
  },
  {
   "cell_type": "code",
   "execution_count": 67,
   "id": "577f4779",
   "metadata": {},
   "outputs": [
    {
     "name": "stdout",
     "output_type": "stream",
     "text": [
      "[[ 2  4  6]\n",
      " [ 8 10 12]]\n"
     ]
    }
   ],
   "source": [
    "arr1 = np.array([[1, 2, 3], [4, 5, 6]])\n",
    "scalar = 2\n",
    "print(arr1 * scalar)"
   ]
  },
  {
   "cell_type": "markdown",
   "id": "c7c52b52",
   "metadata": {},
   "source": [
    "# Reshaping Arrays"
   ]
  },
  {
   "cell_type": "code",
   "execution_count": 68,
   "id": "12777ff0",
   "metadata": {},
   "outputs": [
    {
     "name": "stdout",
     "output_type": "stream",
     "text": [
      "[[1 2 3]\n",
      " [4 5 6]\n",
      " [7 8 9]]\n"
     ]
    }
   ],
   "source": [
    "arr = np.arange(1, 10)\n",
    "reshaped = arr.reshape(3, 3)\n",
    "print(reshaped)"
   ]
  },
  {
   "cell_type": "code",
   "execution_count": 69,
   "id": "751bc9a4",
   "metadata": {},
   "outputs": [
    {
     "name": "stdout",
     "output_type": "stream",
     "text": [
      "[1 2 3 4 5 6 7 8 9]\n"
     ]
    }
   ],
   "source": [
    "arr = np.arange(1, 10)\n",
    "flattened = arr.flatten()\n",
    "print(flattened)"
   ]
  },
  {
   "cell_type": "code",
   "execution_count": 70,
   "id": "6469c175",
   "metadata": {},
   "outputs": [
    {
     "name": "stdout",
     "output_type": "stream",
     "text": [
      "[1 2 3 4 5 6 7 8 9]\n"
     ]
    }
   ],
   "source": [
    "arr = np.arange(1, 10)\n",
    "raveled = arr.ravel()\n",
    "print(raveled)"
   ]
  },
  {
   "cell_type": "markdown",
   "id": "2cb59361",
   "metadata": {},
   "source": [
    "# Joining  Arrays"
   ]
  },
  {
   "cell_type": "code",
   "execution_count": 71,
   "id": "de889bfc",
   "metadata": {},
   "outputs": [
    {
     "name": "stdout",
     "output_type": "stream",
     "text": [
      "[1 2 3 4 5 6]\n",
      "[[1 2 3]\n",
      " [4 5 6]]\n",
      "[[1 2 3]\n",
      " [4 5 6]]\n",
      "[1 2 3 4 5 6]\n"
     ]
    }
   ],
   "source": [
    "arr1 = np.array([1, 2, 3])\n",
    "arr2 = np.array([4, 5, 6])\n",
    "concatenated = np.concatenate((arr1, arr2))\n",
    "stacked = np.stack((arr1, arr2))\n",
    "vstacked = np.vstack((arr1, arr2))\n",
    "hstacked = np.hstack((arr1, arr2))\n",
    "print(concatenated)\n",
    "print(stacked)\n",
    "print(vstacked)\n",
    "print(hstacked)"
   ]
  },
  {
   "cell_type": "markdown",
   "id": "00d45830",
   "metadata": {},
   "source": [
    "# Changing Array Data Types"
   ]
  },
  {
   "cell_type": "code",
   "execution_count": 72,
   "id": "453a6a37",
   "metadata": {},
   "outputs": [
    {
     "name": "stdout",
     "output_type": "stream",
     "text": [
      "[1 2 3]\n"
     ]
    }
   ],
   "source": [
    "arr = np.array([1, 2, 3], dtype=np.float64)\n",
    "new_arr = arr.astype(np.int32)\n",
    "print(new_arr)"
   ]
  },
  {
   "cell_type": "markdown",
   "id": "e98e27b8",
   "metadata": {},
   "source": [
    "# Sorting and Searching Arrays"
   ]
  },
  {
   "cell_type": "code",
   "execution_count": 73,
   "id": "4c821640",
   "metadata": {},
   "outputs": [
    {
     "name": "stdout",
     "output_type": "stream",
     "text": [
      "[1 2 4 7 9]\n"
     ]
    }
   ],
   "source": [
    "arr = np.array([1, 7, 9, 4, 2 ])\n",
    "sorted_arr = np.sort(arr)\n",
    "print(sorted_arr)"
   ]
  },
  {
   "cell_type": "code",
   "execution_count": 74,
   "id": "bd758203",
   "metadata": {},
   "outputs": [
    {
     "name": "stdout",
     "output_type": "stream",
     "text": [
      "[1 4 9]\n",
      "[1.         1.41421356 1.73205081]\n",
      "[ 2.71828183  7.3890561  20.08553692]\n"
     ]
    }
   ],
   "source": [
    "arr = np.array([1, 2, 3])\n",
    "print(np.square(arr))\n",
    "print(np.sqrt(arr))\n",
    "print(np.exp(arr))"
   ]
  },
  {
   "cell_type": "markdown",
   "id": "f02b7a10",
   "metadata": {},
   "source": [
    "# trigonometric Functions"
   ]
  },
  {
   "cell_type": "code",
   "execution_count": 75,
   "id": "cfd88adf",
   "metadata": {},
   "outputs": [
    {
     "name": "stdout",
     "output_type": "stream",
     "text": [
      "[0.0000000e+00 1.0000000e+00 1.2246468e-16]\n",
      "[ 1.000000e+00  6.123234e-17 -1.000000e+00]\n",
      "[ 0.00000000e+00  1.63312394e+16 -1.22464680e-16]\n"
     ]
    }
   ],
   "source": [
    "arr = np.array([0, np.pi / 2, np.pi])\n",
    "print(np.sin(arr))\n",
    "print(np.cos(arr))\n",
    "print(np.tan(arr))"
   ]
  },
  {
   "cell_type": "markdown",
   "id": "3f1553c2",
   "metadata": {},
   "source": [
    "# Exponential and Logarithmic Functions"
   ]
  },
  {
   "cell_type": "code",
   "execution_count": 76,
   "id": "2cc721f4",
   "metadata": {},
   "outputs": [
    {
     "name": "stdout",
     "output_type": "stream",
     "text": [
      "[2.71828183e+00 2.20264658e+04 2.68811714e+43]\n",
      "[0.         2.30258509 4.60517019]\n",
      "[0. 1. 2.]\n"
     ]
    }
   ],
   "source": [
    "arr = np.array([1, 10, 100])\n",
    "print(np.exp(arr))\n",
    "print(np.log(arr))\n",
    "print(np.log10(arr))"
   ]
  },
  {
   "cell_type": "markdown",
   "id": "e15bcb29",
   "metadata": {},
   "source": [
    "# Statistical Functions"
   ]
  },
  {
   "cell_type": "code",
   "execution_count": 77,
   "id": "1d665a7d",
   "metadata": {},
   "outputs": [
    {
     "name": "stdout",
     "output_type": "stream",
     "text": [
      "4.6\n",
      "4.0\n",
      "3.0066592756745814\n"
     ]
    }
   ],
   "source": [
    "arr = np.array([1, 7, 9, 4, 2 ])\n",
    "print(np.mean(arr))\n",
    "print(np.median(arr))\n",
    "print(np.std(arr))"
   ]
  },
  {
   "cell_type": "markdown",
   "id": "71590d9b",
   "metadata": {},
   "source": [
    "# LinearAlgebra Operations"
   ]
  },
  {
   "cell_type": "code",
   "execution_count": 78,
   "id": "c73f61dc",
   "metadata": {},
   "outputs": [
    {
     "name": "stdout",
     "output_type": "stream",
     "text": [
      "[[ 7 10]\n",
      " [15 22]]\n",
      "[[1 3]\n",
      " [2 4]]\n"
     ]
    }
   ],
   "source": [
    "matrix = np.array([[1, 2], [3, 4]])\n",
    "print(np.dot(matrix, matrix))\n",
    "print(np.transpose(matrix))"
   ]
  },
  {
   "cell_type": "markdown",
   "id": "beff1e11",
   "metadata": {},
   "source": [
    "# Saving and Loading Arrays"
   ]
  },
  {
   "cell_type": "code",
   "execution_count": 79,
   "id": "41f7bebb",
   "metadata": {},
   "outputs": [
    {
     "name": "stdout",
     "output_type": "stream",
     "text": [
      "[1 7 9 4 2]\n"
     ]
    }
   ],
   "source": [
    "arr = np.array([1, 7, 9, 4, 2 ])\n",
    "np.save('array.npy', arr)\n",
    "loaded_arr = np.load('array.npy')\n",
    "print(loaded_arr)"
   ]
  },
  {
   "cell_type": "code",
   "execution_count": 80,
   "id": "e741b41f",
   "metadata": {},
   "outputs": [
    {
     "name": "stdout",
     "output_type": "stream",
     "text": [
      "[1. 7. 9. 4. 2.]\n"
     ]
    }
   ],
   "source": [
    "arr = np.array([1, 7, 9, 4, 2 ])\n",
    "np.savetxt('array.txt', arr)\n",
    "loaded_arr = np.loadtxt('array.txt')\n",
    "print(loaded_arr)"
   ]
  },
  {
   "cell_type": "markdown",
   "id": "0428d5ac",
   "metadata": {},
   "source": [
    "# Binary File Input and Output"
   ]
  },
  {
   "cell_type": "code",
   "execution_count": 81,
   "id": "de56ad4d",
   "metadata": {},
   "outputs": [
    {
     "name": "stdout",
     "output_type": "stream",
     "text": [
      "[1 7 9 4 2]\n"
     ]
    }
   ],
   "source": [
    "arr = np.array([1, 7, 9, 4, 2 ])\n",
    "np.save('array.npy', arr)\n",
    "loaded_arr = np.load('array.npy')\n",
    "print(loaded_arr)"
   ]
  },
  {
   "cell_type": "markdown",
   "id": "48f413e1",
   "metadata": {},
   "source": [
    "# Compressed File Input and Output"
   ]
  },
  {
   "cell_type": "code",
   "execution_count": 82,
   "id": "53076de7",
   "metadata": {},
   "outputs": [
    {
     "name": "stdout",
     "output_type": "stream",
     "text": [
      "[1 2 3]\n",
      "[4 5 6]\n"
     ]
    }
   ],
   "source": [
    "arr1 = np.array([1, 2, 3])\n",
    "arr2 = np.array([4, 5, 6])\n",
    "\n",
    "np.savez('arrays.npz', arr1 = arr1, arr2 = arr2)\n",
    "loaded_data = np.load('arrays.npz')\n",
    "print(loaded_data['arr1'])\n",
    "print(loaded_data['arr2'])"
   ]
  },
  {
   "cell_type": "markdown",
   "id": "1680a9aa",
   "metadata": {},
   "source": [
    "# Broadcasting in Depth"
   ]
  },
  {
   "cell_type": "code",
   "execution_count": 83,
   "id": "f576cda5",
   "metadata": {},
   "outputs": [
    {
     "name": "stdout",
     "output_type": "stream",
     "text": [
      "[[11 22 33]\n",
      " [14 25 36]]\n"
     ]
    }
   ],
   "source": [
    "arr1 = np.array([[1, 2, 3], [4, 5, 6]])\n",
    "arr2 = np.array([10, 20, 30])\n",
    "result = arr1 + arr2\n",
    "print(result)"
   ]
  },
  {
   "cell_type": "markdown",
   "id": "e130be51",
   "metadata": {},
   "source": [
    "# Array Manipulation Tricks"
   ]
  },
  {
   "cell_type": "code",
   "execution_count": 84,
   "id": "b745d1aa",
   "metadata": {},
   "outputs": [
    {
     "name": "stdout",
     "output_type": "stream",
     "text": [
      "[[1 4]\n",
      " [2 5]\n",
      " [3 6]]\n",
      "[[1 2 3]\n",
      " [1 2 3]\n",
      " [4 5 6]\n",
      " [4 5 6]]\n",
      "[[[1 2 3]\n",
      "  [4 5 6]]\n",
      "\n",
      " [[1 2 3]\n",
      "  [4 5 6]]]\n"
     ]
    }
   ],
   "source": [
    "arr = np.array([[1, 2, 3], [4, 5, 6]])\n",
    "transposed = arr.T\n",
    "repeated = np.repeat(arr, 2, axis=0)\n",
    "stacked = np.stack((arr, arr), axis=0)\n",
    "print(transposed)\n",
    "print(repeated)\n",
    "print(stacked)"
   ]
  },
  {
   "cell_type": "markdown",
   "id": "fbbd1092",
   "metadata": {},
   "source": [
    "# Fancy Indexing and Boolean Masking\n"
   ]
  },
  {
   "cell_type": "code",
   "execution_count": 85,
   "id": "f5983701",
   "metadata": {},
   "outputs": [
    {
     "name": "stdout",
     "output_type": "stream",
     "text": [
      "[1 3 5]\n",
      "[3 4 5]\n"
     ]
    }
   ],
   "source": [
    "arr = np.array([1, 2, 3, 4, 5])\n",
    "indices = np.array([0, 2, 4])\n",
    "print(arr[indices])\n",
    "mask = arr > 2\n",
    "print(arr[mask])"
   ]
  },
  {
   "cell_type": "markdown",
   "id": "bada1e24",
   "metadata": {},
   "source": [
    "# Structured Arrays"
   ]
  },
  {
   "cell_type": "code",
   "execution_count": 88,
   "id": "d044b7ca",
   "metadata": {},
   "outputs": [
    {
     "name": "stdout",
     "output_type": "stream",
     "text": [
      "['jhon' 'alice']\n",
      "[25 30]\n",
      "[5000. 6000.]\n"
     ]
    }
   ],
   "source": [
    "dt = np.dtype([('name', np.str_, 16), ('age', np.int32), ('salary', np.float64)])\n",
    "arr = np.array([('jhon', 25, 5000.0), ('alice', 30, 6000.0)], dtype = dt)\n",
    "print(arr['name'])\n",
    "print(arr['age'])\n",
    "print(arr['salary'])"
   ]
  },
  {
   "cell_type": "markdown",
   "id": "b6862827",
   "metadata": {},
   "source": [
    "# Universal Functions"
   ]
  },
  {
   "cell_type": "code",
   "execution_count": 89,
   "id": "578bc412",
   "metadata": {},
   "outputs": [
    {
     "name": "stdout",
     "output_type": "stream",
     "text": [
      "[3 4 5]\n",
      "[2 4 6]\n",
      "[1.         1.41421356 1.73205081]\n"
     ]
    }
   ],
   "source": [
    "arr = np.array([1, 2, 3])\n",
    "print(np.add(arr, 2))\n",
    "\n",
    "print(np.multiply(arr, 2))\n",
    "\n",
    "print(np.sqrt(arr))"
   ]
  },
  {
   "cell_type": "markdown",
   "id": "f01dcda0",
   "metadata": {},
   "source": [
    "# Vectorization"
   ]
  },
  {
   "cell_type": "code",
   "execution_count": 90,
   "id": "4ee66592",
   "metadata": {},
   "outputs": [
    {
     "name": "stdout",
     "output_type": "stream",
     "text": [
      "[5 7 9]\n"
     ]
    }
   ],
   "source": [
    "arr1 = np.array([1, 2, 3])\n",
    "arr2 = np.array([4, 5, 6])\n",
    "result = arr1 + arr2\n",
    "print(result)"
   ]
  },
  {
   "cell_type": "markdown",
   "id": "ec20fa64",
   "metadata": {},
   "source": [
    "# Memory Efficiency"
   ]
  },
  {
   "cell_type": "code",
   "execution_count": 94,
   "id": "ffa27775",
   "metadata": {},
   "outputs": [
    {
     "name": "stdout",
     "output_type": "stream",
     "text": [
      "[1 2 3]\n",
      "[1 2 3]\n"
     ]
    }
   ],
   "source": [
    "arr1 = np.array([1, 2, 3])\n",
    "arr2  = arr1\n",
    "view  = arr1.view()#creating view (no additional memory)..it changes if we upadate an value\n",
    "copy  = arr1.copy()#createing copy (additional memory)..it does not changes if we upadate an value\n",
    "print(view)\n",
    "print(copy)"
   ]
  },
  {
   "cell_type": "markdown",
   "id": "06c8bb37",
   "metadata": {},
   "source": [
    "# Use Numpy Instead Of Loops"
   ]
  },
  {
   "cell_type": "code",
   "execution_count": 95,
   "id": "84131280",
   "metadata": {},
   "outputs": [
    {
     "name": "stdout",
     "output_type": "stream",
     "text": [
      "15\n"
     ]
    }
   ],
   "source": [
    "arr = np.array([1, 2, 3, 4, 5])\n",
    "total = np.sum(arr)\n",
    "print(total)"
   ]
  },
  {
   "cell_type": "markdown",
   "id": "54e9e621",
   "metadata": {},
   "source": [
    "# Additional operations"
   ]
  },
  {
   "cell_type": "code",
   "execution_count": 96,
   "id": "9e16a9d0",
   "metadata": {},
   "outputs": [
    {
     "data": {
      "text/plain": [
       "array([ 1.        ,  1.47368421,  1.94736842,  2.42105263,  2.89473684,\n",
       "        3.36842105,  3.84210526,  4.31578947,  4.78947368,  5.26315789,\n",
       "        5.73684211,  6.21052632,  6.68421053,  7.15789474,  7.63157895,\n",
       "        8.10526316,  8.57894737,  9.05263158,  9.52631579, 10.        ])"
      ]
     },
     "execution_count": 96,
     "metadata": {},
     "output_type": "execute_result"
    }
   ],
   "source": [
    "arr = np.linspace(1,10,20)\n",
    "arr"
   ]
  },
  {
   "cell_type": "code",
   "execution_count": 97,
   "id": "d8f3d9fc",
   "metadata": {},
   "outputs": [
    {
     "data": {
      "text/plain": [
       "array([[0.76820719, 0.77730332, 0.45521084, 0.33069208, 0.84175361],\n",
       "       [0.11996914, 0.97539675, 0.71240927, 0.10897594, 0.65786625],\n",
       "       [0.88714715, 0.03867037, 0.92732226, 0.83224537, 0.62914601],\n",
       "       [0.46890718, 0.3899407 , 0.5218009 , 0.77220544, 0.57422274],\n",
       "       [0.05388274, 0.68440513, 0.26445021, 0.88381461, 0.81690843]])"
      ]
     },
     "execution_count": 97,
     "metadata": {},
     "output_type": "execute_result"
    }
   ],
   "source": [
    "arr=np.random.rand(5,5)\n",
    "arr"
   ]
  },
  {
   "cell_type": "code",
   "execution_count": 98,
   "id": "55e3c61e",
   "metadata": {},
   "outputs": [
    {
     "name": "stdout",
     "output_type": "stream",
     "text": [
      "[[1 2]\n",
      " [3 4]]\n"
     ]
    }
   ],
   "source": [
    "mat1=np.array([[1,2],[3,4]])\n",
    "print(mat1)"
   ]
  },
  {
   "cell_type": "code",
   "execution_count": 99,
   "id": "a7c17b2c",
   "metadata": {},
   "outputs": [
    {
     "name": "stdout",
     "output_type": "stream",
     "text": [
      "[[5 2]\n",
      " [3 4]]\n"
     ]
    }
   ],
   "source": [
    "mat1[0][0]=5\n",
    "print(mat1)"
   ]
  },
  {
   "cell_type": "code",
   "execution_count": 101,
   "id": "df131334",
   "metadata": {},
   "outputs": [
    {
     "data": {
      "text/plain": [
       "array([[1, 2, 3],\n",
       "       [4, 5, 6]])"
      ]
     },
     "execution_count": 101,
     "metadata": {},
     "output_type": "execute_result"
    }
   ],
   "source": [
    "a=np.array([[1,2,3],[4,5,6]])\n",
    "a"
   ]
  },
  {
   "cell_type": "code",
   "execution_count": 102,
   "id": "ecc8546a",
   "metadata": {},
   "outputs": [
    {
     "data": {
      "text/plain": [
       "array([1, 4])"
      ]
     },
     "execution_count": 102,
     "metadata": {},
     "output_type": "execute_result"
    }
   ],
   "source": [
    "np.min(a,axis=1)#col wise "
   ]
  },
  {
   "cell_type": "code",
   "execution_count": 103,
   "id": "610e8b14",
   "metadata": {},
   "outputs": [
    {
     "data": {
      "text/plain": [
       "array([1, 2, 3])"
      ]
     },
     "execution_count": 103,
     "metadata": {},
     "output_type": "execute_result"
    }
   ],
   "source": [
    "np.min(a,axis=0)#row wise"
   ]
  },
  {
   "cell_type": "code",
   "execution_count": 105,
   "id": "f0ef1569",
   "metadata": {},
   "outputs": [
    {
     "data": {
      "text/plain": [
       "array([10, 20, 50, 30, 60])"
      ]
     },
     "execution_count": 105,
     "metadata": {},
     "output_type": "execute_result"
    }
   ],
   "source": [
    "d=np.array([10,20,50,30,60])\n",
    "d"
   ]
  },
  {
   "cell_type": "code",
   "execution_count": 106,
   "id": "fe7f2c3d",
   "metadata": {},
   "outputs": [
    {
     "data": {
      "text/plain": [
       "array([0, 4], dtype=int64)"
      ]
     },
     "execution_count": 106,
     "metadata": {},
     "output_type": "execute_result"
    }
   ],
   "source": [
    "np.searchsorted(d,[10,60])#sort the elements and search for the values"
   ]
  },
  {
   "cell_type": "code",
   "execution_count": 107,
   "id": "0f5f4639",
   "metadata": {},
   "outputs": [
    {
     "data": {
      "text/plain": [
       "array([[ 10,  20,  30],\n",
       "       [ 40,  50,  60],\n",
       "       [ 70,  80,  90],\n",
       "       [100, 110, 120]])"
      ]
     },
     "execution_count": 107,
     "metadata": {},
     "output_type": "execute_result"
    }
   ],
   "source": [
    "a=np.arange(10,130,10).reshape(4,3)\n",
    "a"
   ]
  },
  {
   "cell_type": "code",
   "execution_count": 108,
   "id": "6db581fe",
   "metadata": {},
   "outputs": [
    {
     "data": {
      "text/plain": [
       "(array([2], dtype=int64), array([1], dtype=int64))"
      ]
     },
     "execution_count": 108,
     "metadata": {},
     "output_type": "execute_result"
    }
   ],
   "source": [
    "np.where(a==80)#returns the location of the value"
   ]
  },
  {
   "cell_type": "code",
   "execution_count": 110,
   "id": "02303a57",
   "metadata": {},
   "outputs": [
    {
     "data": {
      "text/plain": [
       "array([ 10,  20,  30,  40,  50,  60,  70,  80,  90, 100])"
      ]
     },
     "execution_count": 110,
     "metadata": {},
     "output_type": "execute_result"
    }
   ],
   "source": [
    "c=np.arange(10,110,10)\n",
    "c"
   ]
  },
  {
   "cell_type": "code",
   "execution_count": 111,
   "id": "318be57b",
   "metadata": {},
   "outputs": [
    {
     "data": {
      "text/plain": [
       "[array([10, 20, 30, 40, 50]), array([ 60,  70,  80,  90, 100])]"
      ]
     },
     "execution_count": 111,
     "metadata": {},
     "output_type": "execute_result"
    }
   ],
   "source": [
    "np.split(c,2)#split into 2 parts"
   ]
  },
  {
   "cell_type": "code",
   "execution_count": null,
   "id": "071f7253",
   "metadata": {},
   "outputs": [],
   "source": []
  }
 ],
 "metadata": {
  "kernelspec": {
   "display_name": "Python 3 (ipykernel)",
   "language": "python",
   "name": "python3"
  },
  "language_info": {
   "codemirror_mode": {
    "name": "ipython",
    "version": 3
   },
   "file_extension": ".py",
   "mimetype": "text/x-python",
   "name": "python",
   "nbconvert_exporter": "python",
   "pygments_lexer": "ipython3",
   "version": "3.9.13"
  }
 },
 "nbformat": 4,
 "nbformat_minor": 5
}
